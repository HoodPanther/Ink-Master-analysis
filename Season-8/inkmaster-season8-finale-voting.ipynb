{
 "cells": [
  {
   "cell_type": "code",
   "execution_count": 1,
   "metadata": {
    "collapsed": false
   },
   "outputs": [
    {
     "data": {
      "text/plain": [
       "'3.5.1 |Continuum Analytics, Inc.| (default, Jan 29 2016, 15:01:46) [MSC v.1900 64 bit (AMD64)]'"
      ]
     },
     "execution_count": 1,
     "metadata": {},
     "output_type": "execute_result"
    }
   ],
   "source": [
    "import sys\n",
    "sys.path.append('C:\\Anaconda3\\Lib\\site-packages')\n",
    "sys.version"
   ]
  },
  {
   "cell_type": "code",
   "execution_count": 2,
   "metadata": {
    "collapsed": false
   },
   "outputs": [],
   "source": [
    "import os\n",
    "import json\n",
    "import datetime\n",
    "import pytz\n",
    "import numpy as np\n",
    "import pandas as pd\n",
    "import seaborn as sns\n",
    "import matplotlib.pyplot as plt\n",
    "import matplotlib as mpl\n",
    "\n",
    "%matplotlib inline\n",
    "plt.style.use('fivethirtyeight')\n",
    "pd.set_option('display.max_colwidth', -1)\n",
    "savefig = {'bbox_inches': 'tight', 'dpi': 300}"
   ]
  },
  {
   "cell_type": "code",
   "execution_count": 3,
   "metadata": {
    "collapsed": true
   },
   "outputs": [],
   "source": [
    "# Print integers nicely please ...\n",
    "class _IntArrayFormatter(pd.formats.format.GenericArrayFormatter):\n",
    "\n",
    "    def _format_strings(self):\n",
    "        formatter = self.formatter or (lambda x: ' {:,}'.format(x))\n",
    "        fmt_values = [formatter(x) for x in self.values]\n",
    "        return fmt_values\n",
    "\n",
    "pd.formats.format.IntArrayFormatter = _IntArrayFormatter"
   ]
  },
  {
   "cell_type": "markdown",
   "metadata": {},
   "source": [
    "# Ink Master Live Season 8 Finale Twitter Voting\n",
    "\n",
    "When twitter popularity decides who gets $100,000 and a car. Counting up the votes for contestants on the Ink Master season finale.\n",
    "\n",
    "## Back story\n",
    "\n",
    "Ink Master is a reality competition television series on Spike TV, where contestants are judged ont their tattooing ability. This year saw the 8th round of the competition and the live season finale ran last week on Tuesday December 6th.\n",
    "\n",
    "Three of the original 18 contestants made it to the finale, where they had to ink a 6 hour tattoo that would be judged by twitter users. The person receiving the most votes would progress to the final stage of judging, while one of the other two would be eliminated on the spot.\n",
    "\n",
    "## Voting details\n",
    "\n",
    "After revealing the tattoos, users were given a small window of about 10 minutes in which votes would be counted. As per [the official rules](http://www.spike.com/about/ink-master-finale-voting-rules-s8), a user can cast as many votes as they want.\n",
    "\n",
    "Tweets are counted as a vote if they contain one of the following hashtags: #InkKelly, #InkGian, or #InkRyan - depending on who the vote is cast for. Here were the three competitors and their final tattoos:"
   ]
  },
  {
   "cell_type": "markdown",
   "metadata": {},
   "source": [
    "https://www.instagram.com/p/BNqAxzojN9s/?taken-by=kellydotylovessoup"
   ]
  },
  {
   "cell_type": "markdown",
   "metadata": {},
   "source": [
    "__Kelly Doty__\n",
    "\n",
    "![](input/ink_master_finale_gallery_live_tattoo_2.jpg)"
   ]
  },
  {
   "cell_type": "markdown",
   "metadata": {},
   "source": [
    "__Gian Karle Cruz__\n",
    "\n",
    "![](input/ink_master_finale_gallery_live_tattoo_3.jpg)"
   ]
  },
  {
   "cell_type": "markdown",
   "metadata": {},
   "source": [
    "__Ryan Ashley Malarkey__\n",
    "\n",
    "![](input/ink_master_finale_gallery_live_tattoo_1.jpg)"
   ]
  },
  {
   "cell_type": "markdown",
   "metadata": {},
   "source": [
    "## Counting up the tweets\n",
    "### Invesitage tweet data"
   ]
  },
  {
   "cell_type": "code",
   "execution_count": 4,
   "metadata": {
    "collapsed": false
   },
   "outputs": [],
   "source": [
    "# Some will be truncated :(\n",
    "for line in open('input/#InkKelly_2016-12-03_to_2016-12-10.json', 'r'):\n",
    "    tweet = json.loads(line)\n",
    "    if tweet['truncated']:\n",
    "        break"
   ]
  },
  {
   "cell_type": "code",
   "execution_count": 5,
   "metadata": {
    "collapsed": false
   },
   "outputs": [
    {
     "data": {
      "text/plain": [
       "{'contributors': None,\n",
       " 'coordinates': None,\n",
       " 'created_at': 'Fri Dec 09 01:12:23 +0000 2016',\n",
       " 'entities': {'hashtags': [{'indices': [0, 15], 'text': 'Spikeinkmaster'},\n",
       "   {'indices': [68, 77], 'text': 'inkkelly'}],\n",
       "  'symbols': [],\n",
       "  'urls': [{'display_url': 'twitter.com/i/web/status/8…',\n",
       "    'expanded_url': 'https://twitter.com/i/web/status/807030094820679682',\n",
       "    'indices': [117, 140],\n",
       "    'url': 'https://t.co/GRF2XRPjdI'}],\n",
       "  'user_mentions': []},\n",
       " 'favorite_count': 1,\n",
       " 'favorited': False,\n",
       " 'geo': None,\n",
       " 'id': 807030094820679682,\n",
       " 'id_str': '807030094820679682',\n",
       " 'in_reply_to_screen_name': None,\n",
       " 'in_reply_to_status_id': None,\n",
       " 'in_reply_to_status_id_str': None,\n",
       " 'in_reply_to_user_id': None,\n",
       " 'in_reply_to_user_id_str': None,\n",
       " 'is_quote_status': False,\n",
       " 'lang': 'en',\n",
       " 'metadata': {'iso_language_code': 'en', 'result_type': 'recent'},\n",
       " 'place': None,\n",
       " 'possibly_sensitive': False,\n",
       " 'retweet_count': 2,\n",
       " 'retweeted': False,\n",
       " 'source': '<a href=\"http://twitter.com/download/android\" rel=\"nofollow\">Twitter for Android</a>',\n",
       " 'text': \"#Spikeinkmaster used a photo with big reflection (left side)to vote #inkkelly. Picture on right Kelly's tattoo minu… https://t.co/GRF2XRPjdI\",\n",
       " 'truncated': True,\n",
       " 'user': {'contributors_enabled': False,\n",
       "  'created_at': 'Tue Oct 21 01:44:06 +0000 2014',\n",
       "  'default_profile': False,\n",
       "  'default_profile_image': False,\n",
       "  'description': '',\n",
       "  'entities': {'description': {'urls': []}},\n",
       "  'favourites_count': 224,\n",
       "  'follow_request_sent': False,\n",
       "  'followers_count': 26,\n",
       "  'following': False,\n",
       "  'friends_count': 29,\n",
       "  'geo_enabled': False,\n",
       "  'has_extended_profile': False,\n",
       "  'id': 2838906789,\n",
       "  'id_str': '2838906789',\n",
       "  'is_translation_enabled': False,\n",
       "  'is_translator': False,\n",
       "  'lang': 'en',\n",
       "  'listed_count': 0,\n",
       "  'location': '',\n",
       "  'name': 'Michelle Rosary',\n",
       "  'notifications': False,\n",
       "  'profile_background_color': '000000',\n",
       "  'profile_background_image_url': 'http://abs.twimg.com/images/themes/theme1/bg.png',\n",
       "  'profile_background_image_url_https': 'https://abs.twimg.com/images/themes/theme1/bg.png',\n",
       "  'profile_background_tile': False,\n",
       "  'profile_banner_url': 'https://pbs.twimg.com/profile_banners/2838906789/1481299070',\n",
       "  'profile_image_url': 'http://pbs.twimg.com/profile_images/775823800994787329/4uNq59Jf_normal.jpg',\n",
       "  'profile_image_url_https': 'https://pbs.twimg.com/profile_images/775823800994787329/4uNq59Jf_normal.jpg',\n",
       "  'profile_link_color': '999999',\n",
       "  'profile_sidebar_border_color': '000000',\n",
       "  'profile_sidebar_fill_color': '000000',\n",
       "  'profile_text_color': '000000',\n",
       "  'profile_use_background_image': False,\n",
       "  'protected': False,\n",
       "  'screen_name': 'michellerosary',\n",
       "  'statuses_count': 201,\n",
       "  'time_zone': None,\n",
       "  'translator_type': 'none',\n",
       "  'url': None,\n",
       "  'utc_offset': None,\n",
       "  'verified': False}}"
      ]
     },
     "execution_count": 5,
     "metadata": {},
     "output_type": "execute_result"
    }
   ],
   "source": [
    "tweet"
   ]
  },
  {
   "cell_type": "code",
   "execution_count": 6,
   "metadata": {
    "collapsed": false
   },
   "outputs": [
    {
     "data": {
      "text/plain": [
       "['Spikeinkmaster', 'inkkelly']"
      ]
     },
     "execution_count": 6,
     "metadata": {},
     "output_type": "execute_result"
    }
   ],
   "source": [
    "[tag['text'] for tag in tweet['entities']['hashtags']]"
   ]
  },
  {
   "cell_type": "markdown",
   "metadata": {},
   "source": [
    "### Load all data"
   ]
  },
  {
   "cell_type": "code",
   "execution_count": 7,
   "metadata": {
    "collapsed": false
   },
   "outputs": [],
   "source": [
    "files = (open(file, 'r') for file in ['input/#InkKelly_2016-12-03_to_2016-12-10.json',\n",
    "                                      'input/#InkGian_2016-12-03_to_2016-12-10.json',\n",
    "                                      'input/#InkRyan_2016-12-03_to_2016-12-10.json'])"
   ]
  },
  {
   "cell_type": "code",
   "execution_count": 8,
   "metadata": {
    "collapsed": false
   },
   "outputs": [],
   "source": [
    "data = {'text': [], 'screen_name': [], 'created_at': [],\n",
    "        '#InkKelly': [], '#InkGian': [], '#InkRyan': []}\n",
    " \n",
    "for f in files:\n",
    "    for line in f:\n",
    "        t = json.loads(line)\n",
    "        data['text'].append(t['text'])\n",
    "        data['screen_name'].append(t['user']['screen_name'])\n",
    "        data['created_at'].append(t['created_at'])\n",
    "        data['#InkKelly'].append('inkkelly' in [tag['text'].lower() for tag in t['entities']['hashtags']])\n",
    "        data['#InkGian'].append('inkgian' in [tag['text'].lower() for tag in t['entities']['hashtags']])\n",
    "        data['#InkRyan'].append('inkryan' in [tag['text'].lower() for tag in t['entities']['hashtags']])    \n",
    "    \n",
    "df = pd.DataFrame(data)"
   ]
  },
  {
   "cell_type": "markdown",
   "metadata": {},
   "source": [
    "### Clean up data"
   ]
  },
  {
   "cell_type": "code",
   "execution_count": 9,
   "metadata": {
    "collapsed": false
   },
   "outputs": [
    {
     "name": "stdout",
     "output_type": "stream",
     "text": [
      "118293\n",
      "115244\n"
     ]
    }
   ],
   "source": [
    "print(len(df))\n",
    "df = df.drop_duplicates()\n",
    "print(len(df))"
   ]
  },
  {
   "cell_type": "code",
   "execution_count": 10,
   "metadata": {
    "collapsed": true
   },
   "outputs": [],
   "source": [
    "# Convert from UTC to Eastern datetimes\n",
    "\n",
    "# This is one way\n",
    "# dates = pd.to_datetime(df.created_at)\n",
    "# dates = [pytz.timezone('UTC').localize(d) for d in dates]\n",
    "# df.created_at = [d.astimezone(pytz.timezone('US/Eastern')) for d in dates]\n",
    "\n",
    "# This is an easier way\n",
    "df.created_at = [d - datetime.timedelta(hours=5) for d in pd.to_datetime(df.created_at)]"
   ]
  },
  {
   "cell_type": "markdown",
   "metadata": {},
   "source": [
    "There are some rows without any of the required hashtags, we'll remove these."
   ]
  },
  {
   "cell_type": "code",
   "execution_count": 11,
   "metadata": {
    "collapsed": false
   },
   "outputs": [
    {
     "data": {
      "text/html": [
       "<div>\n",
       "<table border=\"1\" class=\"dataframe\">\n",
       "  <thead>\n",
       "    <tr style=\"text-align: right;\">\n",
       "      <th></th>\n",
       "      <th>#InkGian</th>\n",
       "      <th>#InkKelly</th>\n",
       "      <th>#InkRyan</th>\n",
       "      <th>created_at</th>\n",
       "      <th>screen_name</th>\n",
       "      <th>text</th>\n",
       "    </tr>\n",
       "  </thead>\n",
       "  <tbody>\n",
       "    <tr>\n",
       "      <th>29,422</th>\n",
       "      <td>False</td>\n",
       "      <td>False</td>\n",
       "      <td>False</td>\n",
       "      <td>2016-12-06 22:53:29</td>\n",
       "      <td>Winederland</td>\n",
       "      <td>I don't love Japanese style. I wish @giankarle got a different style. But, it's solid and he deserves to be in it.… https://t.co/gm8JgeEfZM</td>\n",
       "    </tr>\n",
       "    <tr>\n",
       "      <th>43,657</th>\n",
       "      <td>False</td>\n",
       "      <td>False</td>\n",
       "      <td>False</td>\n",
       "      <td>2016-12-06 22:33:02</td>\n",
       "      <td>urkiddingrite</td>\n",
       "      <td>#ìnkgian</td>\n",
       "    </tr>\n",
       "    <tr>\n",
       "      <th>45,857</th>\n",
       "      <td>False</td>\n",
       "      <td>False</td>\n",
       "      <td>False</td>\n",
       "      <td>2016-12-07 10:39:01</td>\n",
       "      <td>mariamzzarella</td>\n",
       "      <td>Who is Ryan Ashley Malarkey? Tattoo artist becomes first woman to win \"Ink Master\" https://t.co/LFkx2Vl86q… https://t.co/Qaj2HkT3Kb</td>\n",
       "    </tr>\n",
       "    <tr>\n",
       "      <th>45,913</th>\n",
       "      <td>False</td>\n",
       "      <td>False</td>\n",
       "      <td>False</td>\n",
       "      <td>2016-12-07 09:37:03</td>\n",
       "      <td>StarlitNovember</td>\n",
       "      <td>Just finished watching #spikeInkMaster Finale. Huge CONGRATULATIONS to the Talented and lovely @RyanAshleyM! Girl y… https://t.co/KKal4ujv9c</td>\n",
       "    </tr>\n",
       "    <tr>\n",
       "      <th>48,052</th>\n",
       "      <td>False</td>\n",
       "      <td>False</td>\n",
       "      <td>False</td>\n",
       "      <td>2016-12-07 00:41:48</td>\n",
       "      <td>MissCadaverous</td>\n",
       "      <td>CONGRATS @RyanAshleyM ❤️❤️❤️ YOU DID IT!!! Obviously, with how amazing and talented you are, it was destined to hap… https://t.co/G5Yt3MDCXF</td>\n",
       "    </tr>\n",
       "    <tr>\n",
       "      <th>49,386</th>\n",
       "      <td>False</td>\n",
       "      <td>False</td>\n",
       "      <td>False</td>\n",
       "      <td>2016-12-06 23:33:32</td>\n",
       "      <td>histteachlife</td>\n",
       "      <td>Well deserved!!! So happy to not only see a woman win, but an extremely talented woman!! @RyanAshleyM #inkmaster… https://t.co/aVjHKm4Tno</td>\n",
       "    </tr>\n",
       "    <tr>\n",
       "      <th>52,807</th>\n",
       "      <td>False</td>\n",
       "      <td>False</td>\n",
       "      <td>False</td>\n",
       "      <td>2016-12-06 23:01:46</td>\n",
       "      <td>eli_11swerve</td>\n",
       "      <td>Not into women with pierced noses but for her I'll make an exception &amp;amp; she does badass tattoos! Ryan for the first… https://t.co/3TfNcTKej6</td>\n",
       "    </tr>\n",
       "    <tr>\n",
       "      <th>54,893</th>\n",
       "      <td>False</td>\n",
       "      <td>False</td>\n",
       "      <td>False</td>\n",
       "      <td>2016-12-06 22:50:11</td>\n",
       "      <td>_taylorharding</td>\n",
       "      <td>@RyanAshleyM YOU'RE TRENDINNNNNGGGG OMG! Hope you bring it home girl, you've earned it 💕 Lots of love from New Zeal… https://t.co/t6EM9ayW1R</td>\n",
       "    </tr>\n",
       "    <tr>\n",
       "      <th>67,475</th>\n",
       "      <td>False</td>\n",
       "      <td>False</td>\n",
       "      <td>False</td>\n",
       "      <td>2016-12-06 22:41:23</td>\n",
       "      <td>ivywillgrow</td>\n",
       "      <td>I have been fiercely rooting for @RyanAshleyM since the first episode of @SpikeInkMaster. Such an outstanding tatto… https://t.co/wUjcK4w63I</td>\n",
       "    </tr>\n",
       "    <tr>\n",
       "      <th>74,618</th>\n",
       "      <td>False</td>\n",
       "      <td>False</td>\n",
       "      <td>False</td>\n",
       "      <td>2016-12-06 22:39:07</td>\n",
       "      <td>djdesimone085</td>\n",
       "      <td>This is awesome and I love the work you do and I have been your fan since the season started and I knew you make it… https://t.co/hPpN3n1Y4l</td>\n",
       "    </tr>\n",
       "    <tr>\n",
       "      <th>78,845</th>\n",
       "      <td>False</td>\n",
       "      <td>False</td>\n",
       "      <td>False</td>\n",
       "      <td>2016-12-06 22:38:00</td>\n",
       "      <td>samnicole411</td>\n",
       "      <td>My vote tonight for the #InkMasterFinale is the most talented artist this competition has seen thus far… https://t.co/MvZctJWT3V</td>\n",
       "    </tr>\n",
       "  </tbody>\n",
       "</table>\n",
       "</div>"
      ],
      "text/plain": [
       "       #InkGian #InkKelly #InkRyan          created_at      screen_name  \\\n",
       "29,422  False    False     False   2016-12-06 22:53:29  Winederland       \n",
       "43,657  False    False     False   2016-12-06 22:33:02  urkiddingrite     \n",
       "45,857  False    False     False   2016-12-07 10:39:01  mariamzzarella    \n",
       "45,913  False    False     False   2016-12-07 09:37:03  StarlitNovember   \n",
       "48,052  False    False     False   2016-12-07 00:41:48  MissCadaverous    \n",
       "49,386  False    False     False   2016-12-06 23:33:32  histteachlife     \n",
       "52,807  False    False     False   2016-12-06 23:01:46  eli_11swerve      \n",
       "54,893  False    False     False   2016-12-06 22:50:11  _taylorharding    \n",
       "67,475  False    False     False   2016-12-06 22:41:23  ivywillgrow       \n",
       "74,618  False    False     False   2016-12-06 22:39:07  djdesimone085     \n",
       "78,845  False    False     False   2016-12-06 22:38:00  samnicole411      \n",
       "\n",
       "                                                                                                                                                   text  \n",
       "29,422  I don't love Japanese style. I wish @giankarle got a different style. But, it's solid and he deserves to be in it.… https://t.co/gm8JgeEfZM      \n",
       "43,657  #ìnkgian                                                                                                                                         \n",
       "45,857  Who is Ryan Ashley Malarkey? Tattoo artist becomes first woman to win \"Ink Master\" https://t.co/LFkx2Vl86q… https://t.co/Qaj2HkT3Kb              \n",
       "45,913  Just finished watching #spikeInkMaster Finale. Huge CONGRATULATIONS to the Talented and lovely @RyanAshleyM! Girl y… https://t.co/KKal4ujv9c     \n",
       "48,052  CONGRATS @RyanAshleyM ❤️❤️❤️ YOU DID IT!!! Obviously, with how amazing and talented you are, it was destined to hap… https://t.co/G5Yt3MDCXF     \n",
       "49,386  Well deserved!!! So happy to not only see a woman win, but an extremely talented woman!! @RyanAshleyM #inkmaster… https://t.co/aVjHKm4Tno        \n",
       "52,807  Not into women with pierced noses but for her I'll make an exception &amp; she does badass tattoos! Ryan for the first… https://t.co/3TfNcTKej6  \n",
       "54,893  @RyanAshleyM YOU'RE TRENDINNNNNGGGG OMG! Hope you bring it home girl, you've earned it 💕 Lots of love from New Zeal… https://t.co/t6EM9ayW1R     \n",
       "67,475  I have been fiercely rooting for @RyanAshleyM since the first episode of @SpikeInkMaster. Such an outstanding tatto… https://t.co/wUjcK4w63I     \n",
       "74,618  This is awesome and I love the work you do and I have been your fan since the season started and I knew you make it… https://t.co/hPpN3n1Y4l     \n",
       "78,845  My vote tonight for the #InkMasterFinale is the most talented artist this competition has seen thus far… https://t.co/MvZctJWT3V                 "
      ]
     },
     "execution_count": 11,
     "metadata": {},
     "output_type": "execute_result"
    }
   ],
   "source": [
    "df[df[['#InkKelly', '#InkGian', '#InkRyan']].sum(axis=1) == 0]"
   ]
  },
  {
   "cell_type": "code",
   "execution_count": 12,
   "metadata": {
    "collapsed": false
   },
   "outputs": [],
   "source": [
    "df = df[~(df[['#InkKelly', '#InkGian', '#InkRyan']].sum(axis=1) == 0)]"
   ]
  },
  {
   "cell_type": "markdown",
   "metadata": {},
   "source": [
    "### Assumptions"
   ]
  },
  {
   "cell_type": "markdown",
   "metadata": {},
   "source": [
    "Retweets are assumed not to count, so let's remove those."
   ]
  },
  {
   "cell_type": "code",
   "execution_count": 13,
   "metadata": {
    "collapsed": false
   },
   "outputs": [
    {
     "data": {
      "text/plain": [
       "37517"
      ]
     },
     "execution_count": 13,
     "metadata": {},
     "output_type": "execute_result"
    }
   ],
   "source": [
    "df.text.str.startswith('RT').sum()"
   ]
  },
  {
   "cell_type": "code",
   "execution_count": 14,
   "metadata": {
    "collapsed": true
   },
   "outputs": [],
   "source": [
    "df = df[~df.text.str.startswith('RT')]"
   ]
  },
  {
   "cell_type": "markdown",
   "metadata": {},
   "source": [
    "The rules for tweets contining votes for more than one competitor are unclear, so we'll allow this. Here is how many times it occurs:"
   ]
  },
  {
   "cell_type": "code",
   "execution_count": 15,
   "metadata": {
    "collapsed": false
   },
   "outputs": [
    {
     "data": {
      "text/plain": [
       "1266"
      ]
     },
     "execution_count": 15,
     "metadata": {},
     "output_type": "execute_result"
    }
   ],
   "source": [
    "(df[['#InkKelly', '#InkGian', '#InkRyan']].sum(axis=1) > 1).sum()"
   ]
  },
  {
   "cell_type": "code",
   "execution_count": 16,
   "metadata": {
    "collapsed": false
   },
   "outputs": [
    {
     "name": "stdout",
     "output_type": "stream",
     "text": [
      "1%\n"
     ]
    }
   ],
   "source": [
    "print('%d%%' % ((df[['#InkKelly', '#InkGian', '#InkRyan']].sum(axis=1) > 1).sum() / len(df) * 100))"
   ]
  },
  {
   "cell_type": "markdown",
   "metadata": {},
   "source": [
    "The show ran from 10-11 PM EST so we'll pad the edges and look at tweets posted from 9-12 PM EST."
   ]
  },
  {
   "cell_type": "code",
   "execution_count": 17,
   "metadata": {
    "collapsed": false
   },
   "outputs": [
    {
     "name": "stdout",
     "output_type": "stream",
     "text": [
      "77716\n",
      "74848\n"
     ]
    }
   ],
   "source": [
    "x1 = datetime.datetime.strptime('06/12/16-21', '%d/%m/%y-%H')\n",
    "x2 = datetime.datetime.strptime('07/12/16-00', '%d/%m/%y-%H')\n",
    "\n",
    "print(len(df))\n",
    "df = df[df.created_at.apply(lambda x: x1 <= x < x2)]\n",
    "print(len(df))"
   ]
  },
  {
   "cell_type": "code",
   "execution_count": 18,
   "metadata": {
    "collapsed": true
   },
   "outputs": [],
   "source": [
    "df = df.sort_values('created_at').reset_index(drop=True)"
   ]
  },
  {
   "cell_type": "markdown",
   "metadata": {},
   "source": [
    "### Analysis"
   ]
  },
  {
   "cell_type": "code",
   "execution_count": 19,
   "metadata": {
    "collapsed": false
   },
   "outputs": [
    {
     "data": {
      "text/plain": [
       "#InkKelly    17,446\n",
       "#InkGian     13,101\n",
       "#InkRyan     45,888\n",
       "dtype: int64"
      ]
     },
     "execution_count": 19,
     "metadata": {},
     "output_type": "execute_result"
    }
   ],
   "source": [
    "tags = ['#InkKelly', '#InkGian', '#InkRyan']\n",
    "df[tags].sum()"
   ]
  },
  {
   "cell_type": "markdown",
   "metadata": {},
   "source": [
    "The time frame where tweets counted as votes was roughly from 10:32 to 10:45 EST. Let's re-calculate the votes from within just that period."
   ]
  },
  {
   "cell_type": "code",
   "execution_count": 20,
   "metadata": {
    "collapsed": false
   },
   "outputs": [
    {
     "data": {
      "text/plain": [
       "#InkKelly    14,890\n",
       "#InkGian     11,068\n",
       "#InkRyan     40,241\n",
       "dtype: int64"
      ]
     },
     "execution_count": 20,
     "metadata": {},
     "output_type": "execute_result"
    }
   ],
   "source": [
    "x1 = datetime.datetime.strptime('06/12/16-22:32', '%d/%m/%y-%H:%M')\n",
    "x2 = datetime.datetime.strptime('06/12/16-22:45', '%d/%m/%y-%H:%M')\n",
    "df[df.created_at.apply(lambda x: x1 <= x < x2)][tags].sum()"
   ]
  },
  {
   "cell_type": "code",
   "execution_count": 21,
   "metadata": {
    "collapsed": true
   },
   "outputs": [],
   "source": [
    "labels = ['Kelly', 'Gian', 'Ryan']\n",
    "colors = ['#fc50dc', '#ffd51e', '#595959']"
   ]
  },
  {
   "cell_type": "code",
   "execution_count": 22,
   "metadata": {
    "collapsed": false
   },
   "outputs": [
    {
     "data": {
      "image/png": "[encoded data removed]",
      "text/plain": [
       "<matplotlib.figure.Figure at 0x2439b164160>"
      ]
     },
     "metadata": {},
     "output_type": "display_data"
    }
   ],
   "source": [
    "fig = plt.figure(figsize=(6, 6))\n",
    "\n",
    "vals = df[df.created_at.apply(lambda x: x1 <= x < x2)][tags].sum().values\n",
    "\n",
    "plt.bar([1, 2, 3], vals, color=colors, alpha=0.95)\n",
    "plt.xlim(0.85, 4)\n",
    "plt.xticks([1.4, 2.4, 3.4], labels)\n",
    "plt.ylabel('Votes', fontsize=12, labelpad=12)\n",
    "plt.ylim(0, 42000)\n",
    "\n",
    "ax = plt.gca()\n",
    "ax.yaxis.set_major_formatter(mpl.ticker.StrMethodFormatter('{x:,.0f}'))\n",
    "plt.savefig('output/total_votes_bar.png', **savefig)"
   ]
  },
  {
   "cell_type": "code",
   "execution_count": 23,
   "metadata": {
    "collapsed": false
   },
   "outputs": [
    {
     "name": "stdout",
     "output_type": "stream",
     "text": [
      "10.0 seconds per bin\n"
     ]
    },
    {
     "data": {
      "image/png": "[encoded data removed]",
      "text/plain": [
       "<matplotlib.figure.Figure at 0x2439af19320>"
      ]
     },
     "metadata": {},
     "output_type": "display_data"
    }
   ],
   "source": [
    "def datetime_histogram(df, title):\n",
    "    \n",
    "    date_timestamps = [[date.timestamp() for date in\n",
    "                        df[df[tag] == True].created_at]\n",
    "                       for tag in tags]\n",
    "\n",
    "    # Be careful here to make sure each histogram has the same bin width\n",
    "    hists = []\n",
    "    hists.append(np.histogram(date_timestamps[0], bins=740))\n",
    "    hists.append(np.histogram(date_timestamps[1], bins=hists[0][1]))\n",
    "    hists.append(np.histogram(date_timestamps[2], bins=hists[0][1]))\n",
    "\n",
    "    hist_dates = [datetime.datetime.fromtimestamp(t) for t in hists[0][1][:-1]]\n",
    "\n",
    "    print('%.1f seconds per bin' % (hist_dates[1] - hist_dates[0]).total_seconds())\n",
    "\n",
    "    fig, ax = plt.subplots(figsize=(8, 5))\n",
    "\n",
    "    # Fill area when tweets count for votes\n",
    "    x1 = datetime.datetime.strptime('06/12/16-22:32', '%d/%m/%y-%H:%M')\n",
    "    x2 = datetime.datetime.strptime('06/12/16-22:45', '%d/%m/%y-%H:%M')\n",
    "    x1_ = list(map(lambda x: abs((x - x1).total_seconds()), hist_dates))\n",
    "    x2_ = list(map(lambda x: abs((x - x2).total_seconds()), hist_dates))\n",
    "    x1_index = x1_.index(min(x1_))\n",
    "    x2_index = x2_.index(min(x2_))\n",
    "    x_fill = hist_dates[x1_index:x2_index]\n",
    "    y1_fill = 0\n",
    "    y2_fill = [max(vals) for vals in zip(*[h[0] for h in hists])][x1_index:x2_index]\n",
    "    # ax.fill_between(x_fill, y1_fill, y2_fill, color='#b3b3b5', alpha=0.5)\n",
    "    ax.fill_between(x_fill, y1_fill, y2_fill, color='white', alpha=0.65)\n",
    "\n",
    "    # Plot the tweets\n",
    "    ax.plot(hist_dates, hists[0][0], color=colors[0], label=labels[0])\n",
    "    ax.plot(hist_dates, hists[1][0], color=colors[1], label=labels[1])\n",
    "    ax.plot(hist_dates, hists[2][0], color=colors[2], label=labels[2])\n",
    "\n",
    "    # Can set xlim using datetimes\n",
    "    x1 = datetime.datetime.strptime('06/12/16-22:30', '%d/%m/%y-%H:%M')\n",
    "    x2 = datetime.datetime.strptime('06/12/16-22:50', '%d/%m/%y-%H:%M')\n",
    "    ax.set_xlim(x1, x2)\n",
    "    ax.set_ylim(0, 3200)\n",
    "\n",
    "    ax.set_ylabel('Votes per %d seconds'\n",
    "                  % (hist_dates[1] - hist_dates[0]).total_seconds(),\n",
    "                  fontsize=12, labelpad=12)\n",
    "    ax.set_xlabel('Time (EST)',\n",
    "                  fontsize=12, labelpad=12)\n",
    "\n",
    "    # Format times\n",
    "    # Note that the hashtag \"#\" is a windows specific formatting option\n",
    "    # for other platforms it may be \"-\"\n",
    "    ax.xaxis.set_major_formatter(mpl.dates.DateFormatter('%#I:%M'))\n",
    "\n",
    "    # Add legend\n",
    "    plt.legend(loc=(0.3, 1), ncol=3)\n",
    "\n",
    "    # Save it\n",
    "    plt.savefig('output/'+title+'.png', **savefig)\n",
    "    \n",
    "datetime_histogram(df, title='all_vote_tweets')"
   ]
  },
  {
   "cell_type": "markdown",
   "metadata": {},
   "source": [
    "Kelly had the initial lead, but Ryan clearly dominated the popular vote. How would this look if only one vote was counted per user?"
   ]
  },
  {
   "cell_type": "code",
   "execution_count": 24,
   "metadata": {
    "collapsed": false
   },
   "outputs": [
    {
     "data": {
      "text/plain": [
       "'Removing 28.5% of the data'"
      ]
     },
     "execution_count": 24,
     "metadata": {},
     "output_type": "execute_result"
    }
   ],
   "source": [
    "dfs = [df[df[tag] == True] for tag in tags]\n",
    "dfs = [df.drop_duplicates('screen_name') for df in dfs]\n",
    "df_one_vote = pd.concat(dfs)\n",
    "\n",
    "'Removing %.1f%% of the data' % ((len(df) - len(df_one_vote)) / len(df) * 100)"
   ]
  },
  {
   "cell_type": "code",
   "execution_count": 25,
   "metadata": {
    "collapsed": false
   },
   "outputs": [
    {
     "name": "stdout",
     "output_type": "stream",
     "text": [
      "10.0 seconds per bin\n"
     ]
    },
    {
     "data": {
      "image/png": "[encoded data removed]",
      "text/plain": [
       "<matplotlib.figure.Figure at 0x24397fdf438>"
      ]
     },
     "metadata": {},
     "output_type": "display_data"
    }
   ],
   "source": [
    "datetime_histogram(df_one_vote, title='no_duplicate_vote_tweets')"
   ]
  },
  {
   "cell_type": "markdown",
   "metadata": {},
   "source": [
    "It looks nearly identical, differences are more noticeable after the initial spike for each contestant.\n",
    "\n",
    "Which users had the most votes and who did they vote for?"
   ]
  },
  {
   "cell_type": "code",
   "execution_count": 26,
   "metadata": {
    "collapsed": false
   },
   "outputs": [
    {
     "data": {
      "text/html": [
       "<div>\n",
       "<table border=\"1\" class=\"dataframe\">\n",
       "  <thead>\n",
       "    <tr style=\"text-align: right;\">\n",
       "      <th></th>\n",
       "      <th>Screen Name</th>\n",
       "      <th>#InkKelly</th>\n",
       "      <th>#InkGian</th>\n",
       "      <th>#InkRyan</th>\n",
       "      <th>Total Votes</th>\n",
       "    </tr>\n",
       "  </thead>\n",
       "  <tbody>\n",
       "    <tr>\n",
       "      <th>1</th>\n",
       "      <td>Boogotshot</td>\n",
       "      <td>0</td>\n",
       "      <td>168</td>\n",
       "      <td>0</td>\n",
       "      <td>168</td>\n",
       "    </tr>\n",
       "    <tr>\n",
       "      <th>2</th>\n",
       "      <td>burgerb0yw0nder</td>\n",
       "      <td>0</td>\n",
       "      <td>88</td>\n",
       "      <td>0</td>\n",
       "      <td>88</td>\n",
       "    </tr>\n",
       "    <tr>\n",
       "      <th>3</th>\n",
       "      <td>RestlessKeatsxo</td>\n",
       "      <td>0</td>\n",
       "      <td>0</td>\n",
       "      <td>87</td>\n",
       "      <td>87</td>\n",
       "    </tr>\n",
       "    <tr>\n",
       "      <th>4</th>\n",
       "      <td>princess_emrick</td>\n",
       "      <td>0</td>\n",
       "      <td>0</td>\n",
       "      <td>80</td>\n",
       "      <td>80</td>\n",
       "    </tr>\n",
       "    <tr>\n",
       "      <th>5</th>\n",
       "      <td>crucio_court</td>\n",
       "      <td>0</td>\n",
       "      <td>0</td>\n",
       "      <td>78</td>\n",
       "      <td>78</td>\n",
       "    </tr>\n",
       "    <tr>\n",
       "      <th>6</th>\n",
       "      <td>solarskyes</td>\n",
       "      <td>0</td>\n",
       "      <td>66</td>\n",
       "      <td>0</td>\n",
       "      <td>66</td>\n",
       "    </tr>\n",
       "    <tr>\n",
       "      <th>7</th>\n",
       "      <td>crybbycrybby</td>\n",
       "      <td>62</td>\n",
       "      <td>0</td>\n",
       "      <td>0</td>\n",
       "      <td>62</td>\n",
       "    </tr>\n",
       "    <tr>\n",
       "      <th>8</th>\n",
       "      <td>sorryimgabs</td>\n",
       "      <td>0</td>\n",
       "      <td>0</td>\n",
       "      <td>62</td>\n",
       "      <td>62</td>\n",
       "    </tr>\n",
       "  </tbody>\n",
       "</table>\n",
       "</div>"
      ],
      "text/plain": [
       "       Screen Name  #InkKelly  #InkGian  #InkRyan  Total Votes\n",
       "1  Boogotshot       0          168       0         168        \n",
       "2  burgerb0yw0nder  0          88        0         88         \n",
       "3  RestlessKeatsxo  0          0         87        87         \n",
       "4  princess_emrick  0          0         80        80         \n",
       "5  crucio_court     0          0         78        78         \n",
       "6  solarskyes       0          66        0         66         \n",
       "7  crybbycrybby     62         0         0         62         \n",
       "8  sorryimgabs      0          0         62        62         "
      ]
     },
     "execution_count": 26,
     "metadata": {},
     "output_type": "execute_result"
    }
   ],
   "source": [
    "x1 = datetime.datetime.strptime('06/12/16-22:32', '%d/%m/%y-%H:%M')\n",
    "x2 = datetime.datetime.strptime('06/12/16-22:45', '%d/%m/%y-%H:%M')\n",
    "df_counts = df[df.created_at.apply(lambda x: x1 <= x < x2)]\n",
    "\n",
    "df_counts = df_counts.groupby('screen_name')[tags].sum().reset_index()\n",
    "df_counts[tags] = df_counts[tags].astype(int)\n",
    "df_counts['Total Votes'] = df_counts[tags].sum(axis=1)\n",
    "df_counts = df_counts.sort_values('Total Votes', ascending=False)\n",
    "df_counts.index = list(range(1, len(df_counts) + 1))\n",
    "df_counts.columns = ['Screen Name'] + list(df_counts.columns)[1:]\n",
    "df_counts.head(8)"
   ]
  },
  {
   "cell_type": "markdown",
   "metadata": {},
   "source": [
    "How many people voted more than once?"
   ]
  },
  {
   "cell_type": "code",
   "execution_count": 27,
   "metadata": {
    "collapsed": false
   },
   "outputs": [
    {
     "name": "stdout",
     "output_type": "stream",
     "text": [
      "76% of users posted only once\n"
     ]
    }
   ],
   "source": [
    "all_names = df.screen_name.unique()\n",
    "multipost_names = df.screen_name[df.screen_name.duplicated()].unique()\n",
    "\n",
    "print('%d%% of users posted only once' % ((len(all_names) - len(multipost_names)) / len(all_names) * 100))"
   ]
  },
  {
   "cell_type": "markdown",
   "metadata": {
    "collapsed": true
   },
   "source": [
    "Mean and median for users who posted more than once."
   ]
  },
  {
   "cell_type": "code",
   "execution_count": 28,
   "metadata": {
    "collapsed": false
   },
   "outputs": [],
   "source": [
    "df_multiple_votes = df[df.screen_name.apply(lambda x: x in multipost_names)]"
   ]
  },
  {
   "cell_type": "code",
   "execution_count": 29,
   "metadata": {
    "collapsed": false
   },
   "outputs": [
    {
     "name": "stdout",
     "output_type": "stream",
     "text": [
      "Mean   = 3.3\n",
      "Median = 2.0\n"
     ]
    }
   ],
   "source": [
    "multiple_user_votes = df_multiple_votes.groupby('screen_name')[tags].sum().sum(axis=1)\n",
    "print('Mean   = %.1f' % multiple_user_votes.mean())\n",
    "print('Median = %.1f' % multiple_user_votes.median())"
   ]
  },
  {
   "cell_type": "code",
   "execution_count": null,
   "metadata": {
    "collapsed": true
   },
   "outputs": [],
   "source": []
  }
 ],
 "metadata": {
  "anaconda-cloud": {},
  "kernelspec": {
   "display_name": "Python 3",
   "language": "python",
   "name": "python3"
  },
  "language_info": {
   "codemirror_mode": {
    "name": "ipython",
    "version": 3
   },
   "file_extension": ".py",
   "mimetype": "text/x-python",
   "name": "python",
   "nbconvert_exporter": "python",
   "pygments_lexer": "ipython3",
   "version": "3.5.1"
  }
 },
 "nbformat": 4,
 "nbformat_minor": 0
}
